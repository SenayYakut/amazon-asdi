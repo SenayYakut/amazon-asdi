{
 "cells": [
  {
   "cell_type": "markdown",
   "metadata": {},
   "source": [
    "# Working with NOAA ISD data using Python, Pandas, and PyAthena\n",
    "\n",
    "We use PyAthena for running the queries and Pandas for the results."
   ]
  },
  {
   "cell_type": "markdown",
   "metadata": {},
   "source": [
    "## Introduction to NOAA ISD Data\n",
    "\n",
    "The NOAA Integrated Surface Database (ISD) is made up of global hourly observations compiled from a variety of sources.\n",
    "The data are stored on S3 in the bucket `s3://noaa-isd-pds/` as fixed width text files. \n",
    "\n",
    "We will take advantage of Athena's ability to run queries over objects in S3 buckets, and use it for digesting the ISD data into manageable pieces. "
   ]
  },
  {
   "cell_type": "code",
   "execution_count": null,
   "metadata": {},
   "outputs": [],
   "source": [
    "import boto3\n",
    "import uuid\n",
    "from pyathena import connect\n",
    "import pandas as pd\n",
    "import matplotlib.pyplot as plt\n",
    "from mpl_toolkits.basemap import Basemap"
   ]
  },
  {
   "cell_type": "markdown",
   "metadata": {},
   "source": [
    "The `athena_data_bucket` variable is where we will store our query results automatically from Athena. This bucket will be created for you if it does not exist. If it does exist, you will need write access to the bucket."
   ]
  },
  {
   "cell_type": "code",
   "execution_count": null,
   "metadata": {},
   "outputs": [],
   "source": [
    "athena_data_bucket = \"isd-demo-\"\n",
    "conn = connect(s3_staging_dir=\"s3://\" + athena_data_bucket + '-' + str(uuid.uuid4()),\n",
    "               region_name=boto3.session.Session().region_name)"
   ]
  },
  {
   "cell_type": "markdown",
   "metadata": {},
   "source": [
    "## Plot time series Temperature & Dewpoint\n",
    "### Query to get the air temperature and dewpoint temperature for the KOKC (Oklahoma City) station for the year.\n",
    "\n",
    "We select only quality controlled data by checking if the quality of the observation is '5'. '5' represents 'Passed all quality control checks, data originate from an NCEI data source.' per the [ISD documentation](https://www.ncei.noaa.gov/data/global-hourly/doc/isd-format-document.pdf)"
   ]
  },
  {
   "cell_type": "code",
   "execution_count": null,
   "metadata": {},
   "outputs": [],
   "source": [
    "df = pd.read_sql(\"SELECT obs_date, obs_time, air_temp, air_dewpoint_temp FROM noaaisd.isd where station_call = 'KOKC ' and air_temp_quality = '5' and air_dewpoint_temp_quality = '5';\", conn)\n",
    "df"
   ]
  },
  {
   "cell_type": "markdown",
   "metadata": {},
   "source": [
    "### Get datetime object & convert C to F\n",
    "\n",
    "The data stored in ISD as scaled integers, so we first unscale (divide by 10) then convert to Fahrenheit"
   ]
  },
  {
   "cell_type": "code",
   "execution_count": null,
   "metadata": {},
   "outputs": [],
   "source": [
    "df['obs_date_time'] = pd.to_datetime(df.obs_date + df.obs_time, format='%Y%m%d%H%M')\n",
    "df['air_temp'] = (df.air_temp / 10.0) * (9/5) + 32\n",
    "df['air_dewpoint_temp'] = (df.air_dewpoint_temp / 10.0) * (9/5) + 32\n",
    "df"
   ]
  },
  {
   "cell_type": "markdown",
   "metadata": {},
   "source": [
    "### Plot the time series of temperature and dewpoint"
   ]
  },
  {
   "cell_type": "code",
   "execution_count": null,
   "metadata": {},
   "outputs": [],
   "source": [
    "ax = plt.gca()\n",
    "df.plot(figsize=(20,10), title='KOKC', kind='line', x='obs_date_time', y='air_dewpoint_temp', color='green', ax=ax)\n",
    "df.plot(kind='line', x='obs_date_time', y='air_temp', color='red', ax=ax)\n",
    "plt.xlabel('Date')\n",
    "plt.ylabel('Temperature (F)')"
   ]
  },
  {
   "cell_type": "markdown",
   "metadata": {},
   "source": [
    "## Plot locations of all stations in ISD"
   ]
  },
  {
   "cell_type": "code",
   "execution_count": null,
   "metadata": {},
   "outputs": [],
   "source": [
    "df = pd.read_sql(\"SELECT DISTINCT obs_latitude, obs_longitude FROM noaaisd.isd;\", conn)\n",
    "df"
   ]
  },
  {
   "cell_type": "markdown",
   "metadata": {},
   "source": [
    "rescale the latitude and longitude"
   ]
  },
  {
   "cell_type": "code",
   "execution_count": null,
   "metadata": {},
   "outputs": [],
   "source": [
    "df['obs_latitude'] = df.obs_latitude / 1000.0\n",
    "df['obs_longitude'] = df.obs_longitude / 1000.0\n",
    "df"
   ]
  },
  {
   "cell_type": "markdown",
   "metadata": {},
   "source": [
    "Plot a map, and plot the locations of the stations"
   ]
  },
  {
   "cell_type": "code",
   "execution_count": null,
   "metadata": {},
   "outputs": [],
   "source": [
    "plt.subplots(figsize=(50,50))\n",
    "m = Basemap(\n",
    "    projection='merc', \n",
    "    llcrnrlat=-89.0, \n",
    "    urcrnrlat=89.0, \n",
    "    llcrnrlon=-180.0, \n",
    "    urcrnrlon=180.0,\n",
    "    resolution='l'\n",
    ")\n",
    "\n",
    "m.drawmapboundary(fill_color='#ffffff')\n",
    "m.drawcoastlines(color='#999999', linewidth=.4)\n",
    "\n",
    "m.scatter(df.obs_longitude.tolist(), df.obs_latitude.tolist(), s=20, zorder=2, latlon=True)\n",
    "\n",
    "plt.show()"
   ]
  },
  {
   "cell_type": "code",
   "execution_count": null,
   "metadata": {},
   "outputs": [],
   "source": []
  }
 ],
 "metadata": {
  "kernelspec": {
   "display_name": "conda_python3",
   "language": "python",
   "name": "conda_python3"
  },
  "language_info": {
   "codemirror_mode": {
    "name": "ipython",
    "version": 3
   },
   "file_extension": ".py",
   "mimetype": "text/x-python",
   "name": "python",
   "nbconvert_exporter": "python",
   "pygments_lexer": "ipython3",
   "version": "3.6.5"
  }
 },
 "nbformat": 4,
 "nbformat_minor": 2
}
